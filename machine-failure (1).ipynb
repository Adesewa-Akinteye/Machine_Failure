{
 "cells": [
  {
   "cell_type": "code",
   "execution_count": 1,
   "id": "0be82112",
   "metadata": {
    "_cell_guid": "b1076dfc-b9ad-4769-8c92-a6c4dae69d19",
    "_uuid": "8f2839f25d086af736a60e9eeb907d3b93b6e0e5",
    "execution": {
     "iopub.execute_input": "2024-03-12T07:41:58.223316Z",
     "iopub.status.busy": "2024-03-12T07:41:58.222838Z",
     "iopub.status.idle": "2024-03-12T07:41:59.186607Z",
     "shell.execute_reply": "2024-03-12T07:41:59.185195Z"
    },
    "papermill": {
     "duration": 0.979697,
     "end_time": "2024-03-12T07:41:59.189085",
     "exception": false,
     "start_time": "2024-03-12T07:41:58.209388",
     "status": "completed"
    },
    "tags": []
   },
   "outputs": [
    {
     "name": "stdout",
     "output_type": "stream",
     "text": [
      "/kaggle/input/playground-series-s3e17/sample_submission.csv\n",
      "/kaggle/input/playground-series-s3e17/train.csv\n",
      "/kaggle/input/playground-series-s3e17/test.csv\n"
     ]
    }
   ],
   "source": [
    "# This Python 3 environment comes with many helpful analytics libraries installed\n",
    "# It is defined by the kaggle/python Docker image: https://github.com/kaggle/docker-python\n",
    "# For example, here's several helpful packages to load\n",
    "\n",
    "import numpy as np # linear algebra\n",
    "import pandas as pd # data processing, CSV file I/O (e.g. pd.read_csv)\n",
    "\n",
    "# Input data files are available in the read-only \"../input/\" directory\n",
    "# For example, running this (by clicking run or pressing Shift+Enter) will list all files under the input directory\n",
    "\n",
    "import os\n",
    "for dirname, _, filenames in os.walk('/kaggle/input'):\n",
    "    for filename in filenames:\n",
    "        print(os.path.join(dirname, filename))\n",
    "\n",
    "# You can write up to 20GB to the current directory (/kaggle/working/) that gets preserved as output when you create a version using \"Save & Run All\" \n",
    "# You can also write temporary files to /kaggle/temp/, but they won't be saved outside of the current session"
   ]
  },
  {
   "cell_type": "code",
   "execution_count": 2,
   "id": "c030155b",
   "metadata": {
    "execution": {
     "iopub.execute_input": "2024-03-12T07:41:59.211327Z",
     "iopub.status.busy": "2024-03-12T07:41:59.210354Z",
     "iopub.status.idle": "2024-03-12T07:42:01.159451Z",
     "shell.execute_reply": "2024-03-12T07:42:01.158455Z"
    },
    "papermill": {
     "duration": 1.963206,
     "end_time": "2024-03-12T07:42:01.161975",
     "exception": false,
     "start_time": "2024-03-12T07:41:59.198769",
     "status": "completed"
    },
    "tags": []
   },
   "outputs": [],
   "source": [
    "from sklearn.preprocessing import LabelEncoder\n",
    "from sklearn.model_selection import cross_val_score, train_test_split\n",
    "from sklearn.svm import SVC\n",
    "from sklearn.linear_model import LogisticRegression\n",
    "from sklearn.metrics import roc_auc_score\n",
    "import xgboost as xgb\n",
    "from sklearn.ensemble import RandomForestClassifier\n",
    "from sklearn.neighbors import KNeighborsClassifier\n",
    "from sklearn.preprocessing import StandardScaler\n",
    "from sklearn.tree import DecisionTreeClassifier\n",
    "from sklearn.svm import SVC"
   ]
  },
  {
   "cell_type": "code",
   "execution_count": 3,
   "id": "69d4d149",
   "metadata": {
    "execution": {
     "iopub.execute_input": "2024-03-12T07:42:01.184511Z",
     "iopub.status.busy": "2024-03-12T07:42:01.183440Z",
     "iopub.status.idle": "2024-03-12T07:42:02.113055Z",
     "shell.execute_reply": "2024-03-12T07:42:02.111993Z"
    },
    "papermill": {
     "duration": 0.943899,
     "end_time": "2024-03-12T07:42:02.115904",
     "exception": false,
     "start_time": "2024-03-12T07:42:01.172005",
     "status": "completed"
    },
    "tags": []
   },
   "outputs": [],
   "source": [
    "import seaborn as sns\n",
    "import matplotlib.pyplot as plt\n",
    "data_train=pd.read_csv(\"/kaggle/input/playground-series-s3e17/train.csv\")\n",
    "data_test=pd.read_csv(\"/kaggle/input/playground-series-s3e17/test.csv\")\n",
    "\n",
    "data_test['Machine failure']=np.nan\n",
    "data_train['data']='train'\n",
    "data_test['data']='test'\n",
    "data_test=data_test[data_train.columns]"
   ]
  },
  {
   "cell_type": "code",
   "execution_count": 4,
   "id": "36194705",
   "metadata": {
    "execution": {
     "iopub.execute_input": "2024-03-12T07:42:02.137494Z",
     "iopub.status.busy": "2024-03-12T07:42:02.136566Z",
     "iopub.status.idle": "2024-03-12T07:42:02.175767Z",
     "shell.execute_reply": "2024-03-12T07:42:02.174491Z"
    },
    "papermill": {
     "duration": 0.052687,
     "end_time": "2024-03-12T07:42:02.178250",
     "exception": false,
     "start_time": "2024-03-12T07:42:02.125563",
     "status": "completed"
    },
    "tags": []
   },
   "outputs": [
    {
     "name": "stdout",
     "output_type": "stream",
     "text": [
      "Index(['id', 'Product ID', 'Type', 'Air temperature', 'Process temperature',\n",
      "       'Rotational speed', 'Torque', 'Tool wear', 'Machine failure', 'TWF',\n",
      "       'HDF', 'PWF', 'OSF', 'RNF', 'data'],\n",
      "      dtype='object')\n"
     ]
    }
   ],
   "source": [
    "original_columns = [\n",
    "    'Air temperature [K]',\n",
    "    'Process temperature [K]',\n",
    "    'Rotational speed [rpm]',\n",
    "    'Torque [Nm]',\n",
    "    'Tool wear [min]'\n",
    "]\n",
    "\n",
    "new_columns = {col: col.split(' [')[0] for col in original_columns}\n",
    "data_train = data_train.rename(columns=new_columns)\n",
    "\n",
    "data_test = data_test.rename(columns=new_columns)\n",
    "print(data_test.columns)"
   ]
  },
  {
   "cell_type": "code",
   "execution_count": 5,
   "id": "10d1328d",
   "metadata": {
    "execution": {
     "iopub.execute_input": "2024-03-12T07:42:02.199812Z",
     "iopub.status.busy": "2024-03-12T07:42:02.199363Z",
     "iopub.status.idle": "2024-03-12T07:42:02.221252Z",
     "shell.execute_reply": "2024-03-12T07:42:02.219861Z"
    },
    "papermill": {
     "duration": 0.036484,
     "end_time": "2024-03-12T07:42:02.224674",
     "exception": false,
     "start_time": "2024-03-12T07:42:02.188190",
     "status": "completed"
    },
    "tags": []
   },
   "outputs": [],
   "source": [
    "data_all=pd.concat([data_train,data_test],axis=0)"
   ]
  },
  {
   "cell_type": "code",
   "execution_count": 6,
   "id": "80e9232b",
   "metadata": {
    "execution": {
     "iopub.execute_input": "2024-03-12T07:42:02.246048Z",
     "iopub.status.busy": "2024-03-12T07:42:02.245565Z",
     "iopub.status.idle": "2024-03-12T07:42:02.272382Z",
     "shell.execute_reply": "2024-03-12T07:42:02.271241Z"
    },
    "papermill": {
     "duration": 0.040467,
     "end_time": "2024-03-12T07:42:02.274864",
     "exception": false,
     "start_time": "2024-03-12T07:42:02.234397",
     "status": "completed"
    },
    "tags": []
   },
   "outputs": [
    {
     "data": {
      "text/html": [
       "<div>\n",
       "<style scoped>\n",
       "    .dataframe tbody tr th:only-of-type {\n",
       "        vertical-align: middle;\n",
       "    }\n",
       "\n",
       "    .dataframe tbody tr th {\n",
       "        vertical-align: top;\n",
       "    }\n",
       "\n",
       "    .dataframe thead th {\n",
       "        text-align: right;\n",
       "    }\n",
       "</style>\n",
       "<table border=\"1\" class=\"dataframe\">\n",
       "  <thead>\n",
       "    <tr style=\"text-align: right;\">\n",
       "      <th></th>\n",
       "      <th>id</th>\n",
       "      <th>Product ID</th>\n",
       "      <th>Type</th>\n",
       "      <th>Air temperature</th>\n",
       "      <th>Process temperature</th>\n",
       "      <th>Rotational speed</th>\n",
       "      <th>Torque</th>\n",
       "      <th>Tool wear</th>\n",
       "      <th>Machine failure</th>\n",
       "      <th>TWF</th>\n",
       "      <th>HDF</th>\n",
       "      <th>PWF</th>\n",
       "      <th>OSF</th>\n",
       "      <th>RNF</th>\n",
       "      <th>data</th>\n",
       "    </tr>\n",
       "  </thead>\n",
       "  <tbody>\n",
       "    <tr>\n",
       "      <th>0</th>\n",
       "      <td>0</td>\n",
       "      <td>L50096</td>\n",
       "      <td>L</td>\n",
       "      <td>300.6</td>\n",
       "      <td>309.6</td>\n",
       "      <td>1596</td>\n",
       "      <td>36.1</td>\n",
       "      <td>140</td>\n",
       "      <td>0.0</td>\n",
       "      <td>0</td>\n",
       "      <td>0</td>\n",
       "      <td>0</td>\n",
       "      <td>0</td>\n",
       "      <td>0</td>\n",
       "      <td>train</td>\n",
       "    </tr>\n",
       "    <tr>\n",
       "      <th>1</th>\n",
       "      <td>1</td>\n",
       "      <td>M20343</td>\n",
       "      <td>M</td>\n",
       "      <td>302.6</td>\n",
       "      <td>312.1</td>\n",
       "      <td>1759</td>\n",
       "      <td>29.1</td>\n",
       "      <td>200</td>\n",
       "      <td>0.0</td>\n",
       "      <td>0</td>\n",
       "      <td>0</td>\n",
       "      <td>0</td>\n",
       "      <td>0</td>\n",
       "      <td>0</td>\n",
       "      <td>train</td>\n",
       "    </tr>\n",
       "    <tr>\n",
       "      <th>2</th>\n",
       "      <td>2</td>\n",
       "      <td>L49454</td>\n",
       "      <td>L</td>\n",
       "      <td>299.3</td>\n",
       "      <td>308.5</td>\n",
       "      <td>1805</td>\n",
       "      <td>26.5</td>\n",
       "      <td>25</td>\n",
       "      <td>0.0</td>\n",
       "      <td>0</td>\n",
       "      <td>0</td>\n",
       "      <td>0</td>\n",
       "      <td>0</td>\n",
       "      <td>0</td>\n",
       "      <td>train</td>\n",
       "    </tr>\n",
       "    <tr>\n",
       "      <th>3</th>\n",
       "      <td>3</td>\n",
       "      <td>L53355</td>\n",
       "      <td>L</td>\n",
       "      <td>301.0</td>\n",
       "      <td>310.9</td>\n",
       "      <td>1524</td>\n",
       "      <td>44.3</td>\n",
       "      <td>197</td>\n",
       "      <td>0.0</td>\n",
       "      <td>0</td>\n",
       "      <td>0</td>\n",
       "      <td>0</td>\n",
       "      <td>0</td>\n",
       "      <td>0</td>\n",
       "      <td>train</td>\n",
       "    </tr>\n",
       "    <tr>\n",
       "      <th>4</th>\n",
       "      <td>4</td>\n",
       "      <td>M24050</td>\n",
       "      <td>M</td>\n",
       "      <td>298.0</td>\n",
       "      <td>309.0</td>\n",
       "      <td>1641</td>\n",
       "      <td>35.4</td>\n",
       "      <td>34</td>\n",
       "      <td>0.0</td>\n",
       "      <td>0</td>\n",
       "      <td>0</td>\n",
       "      <td>0</td>\n",
       "      <td>0</td>\n",
       "      <td>0</td>\n",
       "      <td>train</td>\n",
       "    </tr>\n",
       "  </tbody>\n",
       "</table>\n",
       "</div>"
      ],
      "text/plain": [
       "   id Product ID Type  Air temperature  Process temperature  Rotational speed  \\\n",
       "0   0     L50096    L            300.6                309.6              1596   \n",
       "1   1     M20343    M            302.6                312.1              1759   \n",
       "2   2     L49454    L            299.3                308.5              1805   \n",
       "3   3     L53355    L            301.0                310.9              1524   \n",
       "4   4     M24050    M            298.0                309.0              1641   \n",
       "\n",
       "   Torque  Tool wear  Machine failure  TWF  HDF  PWF  OSF  RNF   data  \n",
       "0    36.1        140              0.0    0    0    0    0    0  train  \n",
       "1    29.1        200              0.0    0    0    0    0    0  train  \n",
       "2    26.5         25              0.0    0    0    0    0    0  train  \n",
       "3    44.3        197              0.0    0    0    0    0    0  train  \n",
       "4    35.4         34              0.0    0    0    0    0    0  train  "
      ]
     },
     "execution_count": 6,
     "metadata": {},
     "output_type": "execute_result"
    }
   ],
   "source": [
    "data_all.head()"
   ]
  },
  {
   "cell_type": "code",
   "execution_count": 7,
   "id": "24c4e175",
   "metadata": {
    "execution": {
     "iopub.execute_input": "2024-03-12T07:42:02.296988Z",
     "iopub.status.busy": "2024-03-12T07:42:02.296331Z",
     "iopub.status.idle": "2024-03-12T07:42:02.315793Z",
     "shell.execute_reply": "2024-03-12T07:42:02.314874Z"
    },
    "papermill": {
     "duration": 0.032807,
     "end_time": "2024-03-12T07:42:02.317881",
     "exception": false,
     "start_time": "2024-03-12T07:42:02.285074",
     "status": "completed"
    },
    "tags": []
   },
   "outputs": [
    {
     "data": {
      "text/html": [
       "<div>\n",
       "<style scoped>\n",
       "    .dataframe tbody tr th:only-of-type {\n",
       "        vertical-align: middle;\n",
       "    }\n",
       "\n",
       "    .dataframe tbody tr th {\n",
       "        vertical-align: top;\n",
       "    }\n",
       "\n",
       "    .dataframe thead th {\n",
       "        text-align: right;\n",
       "    }\n",
       "</style>\n",
       "<table border=\"1\" class=\"dataframe\">\n",
       "  <thead>\n",
       "    <tr style=\"text-align: right;\">\n",
       "      <th></th>\n",
       "      <th>id</th>\n",
       "      <th>Product ID</th>\n",
       "      <th>Type</th>\n",
       "      <th>Air temperature</th>\n",
       "      <th>Process temperature</th>\n",
       "      <th>Rotational speed</th>\n",
       "      <th>Torque</th>\n",
       "      <th>Tool wear</th>\n",
       "      <th>Machine failure</th>\n",
       "      <th>TWF</th>\n",
       "      <th>HDF</th>\n",
       "      <th>PWF</th>\n",
       "      <th>OSF</th>\n",
       "      <th>RNF</th>\n",
       "      <th>data</th>\n",
       "    </tr>\n",
       "  </thead>\n",
       "  <tbody>\n",
       "    <tr>\n",
       "      <th>90949</th>\n",
       "      <td>227378</td>\n",
       "      <td>L51130</td>\n",
       "      <td>L</td>\n",
       "      <td>302.3</td>\n",
       "      <td>311.4</td>\n",
       "      <td>1484</td>\n",
       "      <td>40.4</td>\n",
       "      <td>15</td>\n",
       "      <td>NaN</td>\n",
       "      <td>0</td>\n",
       "      <td>0</td>\n",
       "      <td>0</td>\n",
       "      <td>0</td>\n",
       "      <td>0</td>\n",
       "      <td>test</td>\n",
       "    </tr>\n",
       "    <tr>\n",
       "      <th>90950</th>\n",
       "      <td>227379</td>\n",
       "      <td>L47783</td>\n",
       "      <td>L</td>\n",
       "      <td>297.9</td>\n",
       "      <td>309.8</td>\n",
       "      <td>1542</td>\n",
       "      <td>33.8</td>\n",
       "      <td>31</td>\n",
       "      <td>NaN</td>\n",
       "      <td>0</td>\n",
       "      <td>0</td>\n",
       "      <td>0</td>\n",
       "      <td>0</td>\n",
       "      <td>0</td>\n",
       "      <td>test</td>\n",
       "    </tr>\n",
       "    <tr>\n",
       "      <th>90951</th>\n",
       "      <td>227380</td>\n",
       "      <td>L48097</td>\n",
       "      <td>L</td>\n",
       "      <td>295.6</td>\n",
       "      <td>306.2</td>\n",
       "      <td>1501</td>\n",
       "      <td>41.4</td>\n",
       "      <td>187</td>\n",
       "      <td>NaN</td>\n",
       "      <td>0</td>\n",
       "      <td>0</td>\n",
       "      <td>0</td>\n",
       "      <td>0</td>\n",
       "      <td>0</td>\n",
       "      <td>test</td>\n",
       "    </tr>\n",
       "    <tr>\n",
       "      <th>90952</th>\n",
       "      <td>227381</td>\n",
       "      <td>L48969</td>\n",
       "      <td>L</td>\n",
       "      <td>298.1</td>\n",
       "      <td>307.8</td>\n",
       "      <td>1534</td>\n",
       "      <td>40.3</td>\n",
       "      <td>69</td>\n",
       "      <td>NaN</td>\n",
       "      <td>0</td>\n",
       "      <td>0</td>\n",
       "      <td>0</td>\n",
       "      <td>0</td>\n",
       "      <td>0</td>\n",
       "      <td>test</td>\n",
       "    </tr>\n",
       "    <tr>\n",
       "      <th>90953</th>\n",
       "      <td>227382</td>\n",
       "      <td>L52525</td>\n",
       "      <td>L</td>\n",
       "      <td>303.5</td>\n",
       "      <td>312.8</td>\n",
       "      <td>1534</td>\n",
       "      <td>36.1</td>\n",
       "      <td>92</td>\n",
       "      <td>NaN</td>\n",
       "      <td>0</td>\n",
       "      <td>0</td>\n",
       "      <td>0</td>\n",
       "      <td>0</td>\n",
       "      <td>0</td>\n",
       "      <td>test</td>\n",
       "    </tr>\n",
       "  </tbody>\n",
       "</table>\n",
       "</div>"
      ],
      "text/plain": [
       "           id Product ID Type  Air temperature  Process temperature  \\\n",
       "90949  227378     L51130    L            302.3                311.4   \n",
       "90950  227379     L47783    L            297.9                309.8   \n",
       "90951  227380     L48097    L            295.6                306.2   \n",
       "90952  227381     L48969    L            298.1                307.8   \n",
       "90953  227382     L52525    L            303.5                312.8   \n",
       "\n",
       "       Rotational speed  Torque  Tool wear  Machine failure  TWF  HDF  PWF  \\\n",
       "90949              1484    40.4         15              NaN    0    0    0   \n",
       "90950              1542    33.8         31              NaN    0    0    0   \n",
       "90951              1501    41.4        187              NaN    0    0    0   \n",
       "90952              1534    40.3         69              NaN    0    0    0   \n",
       "90953              1534    36.1         92              NaN    0    0    0   \n",
       "\n",
       "       OSF  RNF  data  \n",
       "90949    0    0  test  \n",
       "90950    0    0  test  \n",
       "90951    0    0  test  \n",
       "90952    0    0  test  \n",
       "90953    0    0  test  "
      ]
     },
     "execution_count": 7,
     "metadata": {},
     "output_type": "execute_result"
    }
   ],
   "source": [
    "data_all.tail()"
   ]
  },
  {
   "cell_type": "code",
   "execution_count": 8,
   "id": "4a80b64c",
   "metadata": {
    "execution": {
     "iopub.execute_input": "2024-03-12T07:42:02.341621Z",
     "iopub.status.busy": "2024-03-12T07:42:02.341143Z",
     "iopub.status.idle": "2024-03-12T07:42:02.399338Z",
     "shell.execute_reply": "2024-03-12T07:42:02.398134Z"
    },
    "papermill": {
     "duration": 0.073607,
     "end_time": "2024-03-12T07:42:02.401824",
     "exception": false,
     "start_time": "2024-03-12T07:42:02.328217",
     "status": "completed"
    },
    "tags": []
   },
   "outputs": [
    {
     "data": {
      "text/plain": [
       "id                     0\n",
       "Product ID             0\n",
       "Type                   0\n",
       "Air temperature        0\n",
       "Process temperature    0\n",
       "Rotational speed       0\n",
       "Torque                 0\n",
       "Tool wear              0\n",
       "Machine failure        0\n",
       "TWF                    0\n",
       "HDF                    0\n",
       "PWF                    0\n",
       "OSF                    0\n",
       "RNF                    0\n",
       "data                   0\n",
       "dtype: int64"
      ]
     },
     "execution_count": 8,
     "metadata": {},
     "output_type": "execute_result"
    }
   ],
   "source": [
    "data_train.isna().sum()"
   ]
  },
  {
   "cell_type": "code",
   "execution_count": 9,
   "id": "fed0e4f5",
   "metadata": {
    "execution": {
     "iopub.execute_input": "2024-03-12T07:42:02.425347Z",
     "iopub.status.busy": "2024-03-12T07:42:02.424632Z",
     "iopub.status.idle": "2024-03-12T07:42:02.439914Z",
     "shell.execute_reply": "2024-03-12T07:42:02.438729Z"
    },
    "papermill": {
     "duration": 0.030021,
     "end_time": "2024-03-12T07:42:02.442280",
     "exception": false,
     "start_time": "2024-03-12T07:42:02.412259",
     "status": "completed"
    },
    "tags": []
   },
   "outputs": [
    {
     "data": {
      "text/plain": [
       "Machine failure\n",
       "0.0    134281\n",
       "1.0      2148\n",
       "Name: count, dtype: int64"
      ]
     },
     "execution_count": 9,
     "metadata": {},
     "output_type": "execute_result"
    }
   ],
   "source": [
    "data_all['Machine failure'].value_counts()"
   ]
  },
  {
   "cell_type": "code",
   "execution_count": 10,
   "id": "5b1e4c01",
   "metadata": {
    "execution": {
     "iopub.execute_input": "2024-03-12T07:42:02.465403Z",
     "iopub.status.busy": "2024-03-12T07:42:02.464686Z",
     "iopub.status.idle": "2024-03-12T07:42:02.471788Z",
     "shell.execute_reply": "2024-03-12T07:42:02.470644Z"
    },
    "papermill": {
     "duration": 0.021683,
     "end_time": "2024-03-12T07:42:02.474496",
     "exception": false,
     "start_time": "2024-03-12T07:42:02.452813",
     "status": "completed"
    },
    "tags": []
   },
   "outputs": [
    {
     "data": {
      "text/plain": [
       "62.51443202979516"
      ]
     },
     "execution_count": 10,
     "metadata": {},
     "output_type": "execute_result"
    }
   ],
   "source": [
    "134281/2148"
   ]
  },
  {
   "cell_type": "code",
   "execution_count": 11,
   "id": "0bd6e79f",
   "metadata": {
    "execution": {
     "iopub.execute_input": "2024-03-12T07:42:02.499641Z",
     "iopub.status.busy": "2024-03-12T07:42:02.499219Z",
     "iopub.status.idle": "2024-03-12T07:42:02.604339Z",
     "shell.execute_reply": "2024-03-12T07:42:02.603474Z"
    },
    "papermill": {
     "duration": 0.120945,
     "end_time": "2024-03-12T07:42:02.606741",
     "exception": false,
     "start_time": "2024-03-12T07:42:02.485796",
     "status": "completed"
    },
    "tags": []
   },
   "outputs": [
    {
     "data": {
      "text/plain": [
       "[('id', dtype('int64'), 227383),\n",
       " ('Product ID', dtype('O'), 9995),\n",
       " ('Type', dtype('O'), 3),\n",
       " ('Air temperature', dtype('float64'), 95),\n",
       " ('Process temperature', dtype('float64'), 84),\n",
       " ('Rotational speed', dtype('int64'), 974),\n",
       " ('Torque', dtype('float64'), 628),\n",
       " ('Tool wear', dtype('int64'), 246),\n",
       " ('Machine failure', dtype('float64'), 2),\n",
       " ('TWF', dtype('int64'), 2),\n",
       " ('HDF', dtype('int64'), 2),\n",
       " ('PWF', dtype('int64'), 2),\n",
       " ('OSF', dtype('int64'), 2),\n",
       " ('RNF', dtype('int64'), 2),\n",
       " ('data', dtype('O'), 2)]"
      ]
     },
     "execution_count": 11,
     "metadata": {},
     "output_type": "execute_result"
    }
   ],
   "source": [
    "list(zip(data_all.columns,data_all.dtypes,data_all.nunique()))"
   ]
  },
  {
   "cell_type": "code",
   "execution_count": 12,
   "id": "47ff9fdc",
   "metadata": {
    "execution": {
     "iopub.execute_input": "2024-03-12T07:42:02.631456Z",
     "iopub.status.busy": "2024-03-12T07:42:02.630191Z",
     "iopub.status.idle": "2024-03-12T07:42:02.659929Z",
     "shell.execute_reply": "2024-03-12T07:42:02.658734Z"
    },
    "papermill": {
     "duration": 0.045138,
     "end_time": "2024-03-12T07:42:02.662927",
     "exception": false,
     "start_time": "2024-03-12T07:42:02.617789",
     "status": "completed"
    },
    "tags": []
   },
   "outputs": [],
   "source": [
    "types=pd.get_dummies(data_all['Type'], drop_first=False)\n"
   ]
  },
  {
   "cell_type": "code",
   "execution_count": 13,
   "id": "639ea13c",
   "metadata": {
    "execution": {
     "iopub.execute_input": "2024-03-12T07:42:02.687023Z",
     "iopub.status.busy": "2024-03-12T07:42:02.686279Z",
     "iopub.status.idle": "2024-03-12T07:42:02.697694Z",
     "shell.execute_reply": "2024-03-12T07:42:02.696769Z"
    },
    "papermill": {
     "duration": 0.026056,
     "end_time": "2024-03-12T07:42:02.700042",
     "exception": false,
     "start_time": "2024-03-12T07:42:02.673986",
     "status": "completed"
    },
    "tags": []
   },
   "outputs": [
    {
     "data": {
      "text/html": [
       "<div>\n",
       "<style scoped>\n",
       "    .dataframe tbody tr th:only-of-type {\n",
       "        vertical-align: middle;\n",
       "    }\n",
       "\n",
       "    .dataframe tbody tr th {\n",
       "        vertical-align: top;\n",
       "    }\n",
       "\n",
       "    .dataframe thead th {\n",
       "        text-align: right;\n",
       "    }\n",
       "</style>\n",
       "<table border=\"1\" class=\"dataframe\">\n",
       "  <thead>\n",
       "    <tr style=\"text-align: right;\">\n",
       "      <th></th>\n",
       "      <th>H</th>\n",
       "      <th>L</th>\n",
       "      <th>M</th>\n",
       "    </tr>\n",
       "  </thead>\n",
       "  <tbody>\n",
       "    <tr>\n",
       "      <th>0</th>\n",
       "      <td>False</td>\n",
       "      <td>True</td>\n",
       "      <td>False</td>\n",
       "    </tr>\n",
       "    <tr>\n",
       "      <th>1</th>\n",
       "      <td>False</td>\n",
       "      <td>False</td>\n",
       "      <td>True</td>\n",
       "    </tr>\n",
       "    <tr>\n",
       "      <th>2</th>\n",
       "      <td>False</td>\n",
       "      <td>True</td>\n",
       "      <td>False</td>\n",
       "    </tr>\n",
       "    <tr>\n",
       "      <th>3</th>\n",
       "      <td>False</td>\n",
       "      <td>True</td>\n",
       "      <td>False</td>\n",
       "    </tr>\n",
       "    <tr>\n",
       "      <th>4</th>\n",
       "      <td>False</td>\n",
       "      <td>False</td>\n",
       "      <td>True</td>\n",
       "    </tr>\n",
       "  </tbody>\n",
       "</table>\n",
       "</div>"
      ],
      "text/plain": [
       "       H      L      M\n",
       "0  False   True  False\n",
       "1  False  False   True\n",
       "2  False   True  False\n",
       "3  False   True  False\n",
       "4  False  False   True"
      ]
     },
     "execution_count": 13,
     "metadata": {},
     "output_type": "execute_result"
    }
   ],
   "source": [
    "types.head()"
   ]
  },
  {
   "cell_type": "code",
   "execution_count": 14,
   "id": "b4c1837d",
   "metadata": {
    "execution": {
     "iopub.execute_input": "2024-03-12T07:42:02.724394Z",
     "iopub.status.busy": "2024-03-12T07:42:02.723752Z",
     "iopub.status.idle": "2024-03-12T07:42:02.741150Z",
     "shell.execute_reply": "2024-03-12T07:42:02.739882Z"
    },
    "papermill": {
     "duration": 0.032382,
     "end_time": "2024-03-12T07:42:02.743643",
     "exception": false,
     "start_time": "2024-03-12T07:42:02.711261",
     "status": "completed"
    },
    "tags": []
   },
   "outputs": [],
   "source": [
    "mapping_boolean = {True: 1, False: 0}\n",
    "types['H'] = types['H'].map(mapping_boolean)\n",
    "types['L'] = types['L'].map(mapping_boolean)\n",
    "types['M'] = types['M'].map(mapping_boolean)"
   ]
  },
  {
   "cell_type": "code",
   "execution_count": 15,
   "id": "63daee20",
   "metadata": {
    "execution": {
     "iopub.execute_input": "2024-03-12T07:42:02.767808Z",
     "iopub.status.busy": "2024-03-12T07:42:02.767361Z",
     "iopub.status.idle": "2024-03-12T07:42:02.778219Z",
     "shell.execute_reply": "2024-03-12T07:42:02.777171Z"
    },
    "papermill": {
     "duration": 0.025845,
     "end_time": "2024-03-12T07:42:02.780731",
     "exception": false,
     "start_time": "2024-03-12T07:42:02.754886",
     "status": "completed"
    },
    "tags": []
   },
   "outputs": [
    {
     "data": {
      "text/html": [
       "<div>\n",
       "<style scoped>\n",
       "    .dataframe tbody tr th:only-of-type {\n",
       "        vertical-align: middle;\n",
       "    }\n",
       "\n",
       "    .dataframe tbody tr th {\n",
       "        vertical-align: top;\n",
       "    }\n",
       "\n",
       "    .dataframe thead th {\n",
       "        text-align: right;\n",
       "    }\n",
       "</style>\n",
       "<table border=\"1\" class=\"dataframe\">\n",
       "  <thead>\n",
       "    <tr style=\"text-align: right;\">\n",
       "      <th></th>\n",
       "      <th>H</th>\n",
       "      <th>L</th>\n",
       "      <th>M</th>\n",
       "    </tr>\n",
       "  </thead>\n",
       "  <tbody>\n",
       "    <tr>\n",
       "      <th>0</th>\n",
       "      <td>0</td>\n",
       "      <td>1</td>\n",
       "      <td>0</td>\n",
       "    </tr>\n",
       "    <tr>\n",
       "      <th>1</th>\n",
       "      <td>0</td>\n",
       "      <td>0</td>\n",
       "      <td>1</td>\n",
       "    </tr>\n",
       "    <tr>\n",
       "      <th>2</th>\n",
       "      <td>0</td>\n",
       "      <td>1</td>\n",
       "      <td>0</td>\n",
       "    </tr>\n",
       "    <tr>\n",
       "      <th>3</th>\n",
       "      <td>0</td>\n",
       "      <td>1</td>\n",
       "      <td>0</td>\n",
       "    </tr>\n",
       "    <tr>\n",
       "      <th>4</th>\n",
       "      <td>0</td>\n",
       "      <td>0</td>\n",
       "      <td>1</td>\n",
       "    </tr>\n",
       "  </tbody>\n",
       "</table>\n",
       "</div>"
      ],
      "text/plain": [
       "   H  L  M\n",
       "0  0  1  0\n",
       "1  0  0  1\n",
       "2  0  1  0\n",
       "3  0  1  0\n",
       "4  0  0  1"
      ]
     },
     "execution_count": 15,
     "metadata": {},
     "output_type": "execute_result"
    }
   ],
   "source": [
    "types.head()"
   ]
  },
  {
   "cell_type": "code",
   "execution_count": 16,
   "id": "bf29bd07",
   "metadata": {
    "execution": {
     "iopub.execute_input": "2024-03-12T07:42:02.805342Z",
     "iopub.status.busy": "2024-03-12T07:42:02.804934Z",
     "iopub.status.idle": "2024-03-12T07:42:02.878297Z",
     "shell.execute_reply": "2024-03-12T07:42:02.876998Z"
    },
    "papermill": {
     "duration": 0.088762,
     "end_time": "2024-03-12T07:42:02.881081",
     "exception": false,
     "start_time": "2024-03-12T07:42:02.792319",
     "status": "completed"
    },
    "tags": []
   },
   "outputs": [],
   "source": [
    "data_all=pd.concat([data_all, types], axis=1)\n"
   ]
  },
  {
   "cell_type": "code",
   "execution_count": 17,
   "id": "b016e428",
   "metadata": {
    "execution": {
     "iopub.execute_input": "2024-03-12T07:42:02.906531Z",
     "iopub.status.busy": "2024-03-12T07:42:02.906112Z",
     "iopub.status.idle": "2024-03-12T07:42:02.927979Z",
     "shell.execute_reply": "2024-03-12T07:42:02.926738Z"
    },
    "papermill": {
     "duration": 0.037201,
     "end_time": "2024-03-12T07:42:02.930315",
     "exception": false,
     "start_time": "2024-03-12T07:42:02.893114",
     "status": "completed"
    },
    "tags": []
   },
   "outputs": [
    {
     "data": {
      "text/html": [
       "<div>\n",
       "<style scoped>\n",
       "    .dataframe tbody tr th:only-of-type {\n",
       "        vertical-align: middle;\n",
       "    }\n",
       "\n",
       "    .dataframe tbody tr th {\n",
       "        vertical-align: top;\n",
       "    }\n",
       "\n",
       "    .dataframe thead th {\n",
       "        text-align: right;\n",
       "    }\n",
       "</style>\n",
       "<table border=\"1\" class=\"dataframe\">\n",
       "  <thead>\n",
       "    <tr style=\"text-align: right;\">\n",
       "      <th></th>\n",
       "      <th>id</th>\n",
       "      <th>Product ID</th>\n",
       "      <th>Type</th>\n",
       "      <th>Air temperature</th>\n",
       "      <th>Process temperature</th>\n",
       "      <th>Rotational speed</th>\n",
       "      <th>Torque</th>\n",
       "      <th>Tool wear</th>\n",
       "      <th>Machine failure</th>\n",
       "      <th>TWF</th>\n",
       "      <th>HDF</th>\n",
       "      <th>PWF</th>\n",
       "      <th>OSF</th>\n",
       "      <th>RNF</th>\n",
       "      <th>data</th>\n",
       "      <th>H</th>\n",
       "      <th>L</th>\n",
       "      <th>M</th>\n",
       "    </tr>\n",
       "  </thead>\n",
       "  <tbody>\n",
       "    <tr>\n",
       "      <th>0</th>\n",
       "      <td>0</td>\n",
       "      <td>L50096</td>\n",
       "      <td>L</td>\n",
       "      <td>300.6</td>\n",
       "      <td>309.6</td>\n",
       "      <td>1596</td>\n",
       "      <td>36.1</td>\n",
       "      <td>140</td>\n",
       "      <td>0.0</td>\n",
       "      <td>0</td>\n",
       "      <td>0</td>\n",
       "      <td>0</td>\n",
       "      <td>0</td>\n",
       "      <td>0</td>\n",
       "      <td>train</td>\n",
       "      <td>0</td>\n",
       "      <td>1</td>\n",
       "      <td>0</td>\n",
       "    </tr>\n",
       "    <tr>\n",
       "      <th>1</th>\n",
       "      <td>1</td>\n",
       "      <td>M20343</td>\n",
       "      <td>M</td>\n",
       "      <td>302.6</td>\n",
       "      <td>312.1</td>\n",
       "      <td>1759</td>\n",
       "      <td>29.1</td>\n",
       "      <td>200</td>\n",
       "      <td>0.0</td>\n",
       "      <td>0</td>\n",
       "      <td>0</td>\n",
       "      <td>0</td>\n",
       "      <td>0</td>\n",
       "      <td>0</td>\n",
       "      <td>train</td>\n",
       "      <td>0</td>\n",
       "      <td>0</td>\n",
       "      <td>1</td>\n",
       "    </tr>\n",
       "    <tr>\n",
       "      <th>2</th>\n",
       "      <td>2</td>\n",
       "      <td>L49454</td>\n",
       "      <td>L</td>\n",
       "      <td>299.3</td>\n",
       "      <td>308.5</td>\n",
       "      <td>1805</td>\n",
       "      <td>26.5</td>\n",
       "      <td>25</td>\n",
       "      <td>0.0</td>\n",
       "      <td>0</td>\n",
       "      <td>0</td>\n",
       "      <td>0</td>\n",
       "      <td>0</td>\n",
       "      <td>0</td>\n",
       "      <td>train</td>\n",
       "      <td>0</td>\n",
       "      <td>1</td>\n",
       "      <td>0</td>\n",
       "    </tr>\n",
       "    <tr>\n",
       "      <th>3</th>\n",
       "      <td>3</td>\n",
       "      <td>L53355</td>\n",
       "      <td>L</td>\n",
       "      <td>301.0</td>\n",
       "      <td>310.9</td>\n",
       "      <td>1524</td>\n",
       "      <td>44.3</td>\n",
       "      <td>197</td>\n",
       "      <td>0.0</td>\n",
       "      <td>0</td>\n",
       "      <td>0</td>\n",
       "      <td>0</td>\n",
       "      <td>0</td>\n",
       "      <td>0</td>\n",
       "      <td>train</td>\n",
       "      <td>0</td>\n",
       "      <td>1</td>\n",
       "      <td>0</td>\n",
       "    </tr>\n",
       "    <tr>\n",
       "      <th>4</th>\n",
       "      <td>4</td>\n",
       "      <td>M24050</td>\n",
       "      <td>M</td>\n",
       "      <td>298.0</td>\n",
       "      <td>309.0</td>\n",
       "      <td>1641</td>\n",
       "      <td>35.4</td>\n",
       "      <td>34</td>\n",
       "      <td>0.0</td>\n",
       "      <td>0</td>\n",
       "      <td>0</td>\n",
       "      <td>0</td>\n",
       "      <td>0</td>\n",
       "      <td>0</td>\n",
       "      <td>train</td>\n",
       "      <td>0</td>\n",
       "      <td>0</td>\n",
       "      <td>1</td>\n",
       "    </tr>\n",
       "  </tbody>\n",
       "</table>\n",
       "</div>"
      ],
      "text/plain": [
       "   id Product ID Type  Air temperature  Process temperature  Rotational speed  \\\n",
       "0   0     L50096    L            300.6                309.6              1596   \n",
       "1   1     M20343    M            302.6                312.1              1759   \n",
       "2   2     L49454    L            299.3                308.5              1805   \n",
       "3   3     L53355    L            301.0                310.9              1524   \n",
       "4   4     M24050    M            298.0                309.0              1641   \n",
       "\n",
       "   Torque  Tool wear  Machine failure  TWF  HDF  PWF  OSF  RNF   data  H  L  M  \n",
       "0    36.1        140              0.0    0    0    0    0    0  train  0  1  0  \n",
       "1    29.1        200              0.0    0    0    0    0    0  train  0  0  1  \n",
       "2    26.5         25              0.0    0    0    0    0    0  train  0  1  0  \n",
       "3    44.3        197              0.0    0    0    0    0    0  train  0  1  0  \n",
       "4    35.4         34              0.0    0    0    0    0    0  train  0  0  1  "
      ]
     },
     "execution_count": 17,
     "metadata": {},
     "output_type": "execute_result"
    }
   ],
   "source": [
    "data_all.head()"
   ]
  },
  {
   "cell_type": "code",
   "execution_count": 18,
   "id": "6b28b565",
   "metadata": {
    "execution": {
     "iopub.execute_input": "2024-03-12T07:42:02.955899Z",
     "iopub.status.busy": "2024-03-12T07:42:02.955523Z",
     "iopub.status.idle": "2024-03-12T07:42:02.968165Z",
     "shell.execute_reply": "2024-03-12T07:42:02.967276Z"
    },
    "papermill": {
     "duration": 0.02846,
     "end_time": "2024-03-12T07:42:02.970707",
     "exception": false,
     "start_time": "2024-03-12T07:42:02.942247",
     "status": "completed"
    },
    "tags": []
   },
   "outputs": [],
   "source": [
    "data_all.drop(['id', 'Product ID', 'Type'], axis=1, inplace=True)\n"
   ]
  },
  {
   "cell_type": "code",
   "execution_count": 19,
   "id": "d659354d",
   "metadata": {
    "execution": {
     "iopub.execute_input": "2024-03-12T07:42:02.997123Z",
     "iopub.status.busy": "2024-03-12T07:42:02.996739Z",
     "iopub.status.idle": "2024-03-12T07:42:03.016210Z",
     "shell.execute_reply": "2024-03-12T07:42:03.015283Z"
    },
    "papermill": {
     "duration": 0.035167,
     "end_time": "2024-03-12T07:42:03.018439",
     "exception": false,
     "start_time": "2024-03-12T07:42:02.983272",
     "status": "completed"
    },
    "tags": []
   },
   "outputs": [
    {
     "data": {
      "text/html": [
       "<div>\n",
       "<style scoped>\n",
       "    .dataframe tbody tr th:only-of-type {\n",
       "        vertical-align: middle;\n",
       "    }\n",
       "\n",
       "    .dataframe tbody tr th {\n",
       "        vertical-align: top;\n",
       "    }\n",
       "\n",
       "    .dataframe thead th {\n",
       "        text-align: right;\n",
       "    }\n",
       "</style>\n",
       "<table border=\"1\" class=\"dataframe\">\n",
       "  <thead>\n",
       "    <tr style=\"text-align: right;\">\n",
       "      <th></th>\n",
       "      <th>Air temperature</th>\n",
       "      <th>Process temperature</th>\n",
       "      <th>Rotational speed</th>\n",
       "      <th>Torque</th>\n",
       "      <th>Tool wear</th>\n",
       "      <th>Machine failure</th>\n",
       "      <th>TWF</th>\n",
       "      <th>HDF</th>\n",
       "      <th>PWF</th>\n",
       "      <th>OSF</th>\n",
       "      <th>RNF</th>\n",
       "      <th>data</th>\n",
       "      <th>H</th>\n",
       "      <th>L</th>\n",
       "      <th>M</th>\n",
       "    </tr>\n",
       "  </thead>\n",
       "  <tbody>\n",
       "    <tr>\n",
       "      <th>0</th>\n",
       "      <td>300.6</td>\n",
       "      <td>309.6</td>\n",
       "      <td>1596</td>\n",
       "      <td>36.1</td>\n",
       "      <td>140</td>\n",
       "      <td>0.0</td>\n",
       "      <td>0</td>\n",
       "      <td>0</td>\n",
       "      <td>0</td>\n",
       "      <td>0</td>\n",
       "      <td>0</td>\n",
       "      <td>train</td>\n",
       "      <td>0</td>\n",
       "      <td>1</td>\n",
       "      <td>0</td>\n",
       "    </tr>\n",
       "    <tr>\n",
       "      <th>1</th>\n",
       "      <td>302.6</td>\n",
       "      <td>312.1</td>\n",
       "      <td>1759</td>\n",
       "      <td>29.1</td>\n",
       "      <td>200</td>\n",
       "      <td>0.0</td>\n",
       "      <td>0</td>\n",
       "      <td>0</td>\n",
       "      <td>0</td>\n",
       "      <td>0</td>\n",
       "      <td>0</td>\n",
       "      <td>train</td>\n",
       "      <td>0</td>\n",
       "      <td>0</td>\n",
       "      <td>1</td>\n",
       "    </tr>\n",
       "    <tr>\n",
       "      <th>2</th>\n",
       "      <td>299.3</td>\n",
       "      <td>308.5</td>\n",
       "      <td>1805</td>\n",
       "      <td>26.5</td>\n",
       "      <td>25</td>\n",
       "      <td>0.0</td>\n",
       "      <td>0</td>\n",
       "      <td>0</td>\n",
       "      <td>0</td>\n",
       "      <td>0</td>\n",
       "      <td>0</td>\n",
       "      <td>train</td>\n",
       "      <td>0</td>\n",
       "      <td>1</td>\n",
       "      <td>0</td>\n",
       "    </tr>\n",
       "    <tr>\n",
       "      <th>3</th>\n",
       "      <td>301.0</td>\n",
       "      <td>310.9</td>\n",
       "      <td>1524</td>\n",
       "      <td>44.3</td>\n",
       "      <td>197</td>\n",
       "      <td>0.0</td>\n",
       "      <td>0</td>\n",
       "      <td>0</td>\n",
       "      <td>0</td>\n",
       "      <td>0</td>\n",
       "      <td>0</td>\n",
       "      <td>train</td>\n",
       "      <td>0</td>\n",
       "      <td>1</td>\n",
       "      <td>0</td>\n",
       "    </tr>\n",
       "    <tr>\n",
       "      <th>4</th>\n",
       "      <td>298.0</td>\n",
       "      <td>309.0</td>\n",
       "      <td>1641</td>\n",
       "      <td>35.4</td>\n",
       "      <td>34</td>\n",
       "      <td>0.0</td>\n",
       "      <td>0</td>\n",
       "      <td>0</td>\n",
       "      <td>0</td>\n",
       "      <td>0</td>\n",
       "      <td>0</td>\n",
       "      <td>train</td>\n",
       "      <td>0</td>\n",
       "      <td>0</td>\n",
       "      <td>1</td>\n",
       "    </tr>\n",
       "  </tbody>\n",
       "</table>\n",
       "</div>"
      ],
      "text/plain": [
       "   Air temperature  Process temperature  Rotational speed  Torque  Tool wear  \\\n",
       "0            300.6                309.6              1596    36.1        140   \n",
       "1            302.6                312.1              1759    29.1        200   \n",
       "2            299.3                308.5              1805    26.5         25   \n",
       "3            301.0                310.9              1524    44.3        197   \n",
       "4            298.0                309.0              1641    35.4         34   \n",
       "\n",
       "   Machine failure  TWF  HDF  PWF  OSF  RNF   data  H  L  M  \n",
       "0              0.0    0    0    0    0    0  train  0  1  0  \n",
       "1              0.0    0    0    0    0    0  train  0  0  1  \n",
       "2              0.0    0    0    0    0    0  train  0  1  0  \n",
       "3              0.0    0    0    0    0    0  train  0  1  0  \n",
       "4              0.0    0    0    0    0    0  train  0  0  1  "
      ]
     },
     "execution_count": 19,
     "metadata": {},
     "output_type": "execute_result"
    }
   ],
   "source": [
    "data_all.head()"
   ]
  },
  {
   "cell_type": "code",
   "execution_count": 20,
   "id": "decf6768",
   "metadata": {
    "execution": {
     "iopub.execute_input": "2024-03-12T07:42:03.044317Z",
     "iopub.status.busy": "2024-03-12T07:42:03.043700Z",
     "iopub.status.idle": "2024-03-12T07:42:03.156064Z",
     "shell.execute_reply": "2024-03-12T07:42:03.154756Z"
    },
    "papermill": {
     "duration": 0.128523,
     "end_time": "2024-03-12T07:42:03.158910",
     "exception": false,
     "start_time": "2024-03-12T07:42:03.030387",
     "status": "completed"
    },
    "tags": []
   },
   "outputs": [
    {
     "name": "stderr",
     "output_type": "stream",
     "text": [
      "/tmp/ipykernel_18/1697743391.py:4: SettingWithCopyWarning: \n",
      "A value is trying to be set on a copy of a slice from a DataFrame\n",
      "\n",
      "See the caveats in the documentation: https://pandas.pydata.org/pandas-docs/stable/user_guide/indexing.html#returning-a-view-versus-a-copy\n",
      "  data_test.drop(['Machine failure','data'],axis=1,inplace=True)\n"
     ]
    }
   ],
   "source": [
    "data_train=data_all[data_all['data']=='train']\n",
    "del data_train['data']\n",
    "data_test=data_all[data_all['data']=='test']\n",
    "data_test.drop(['Machine failure','data'],axis=1,inplace=True)"
   ]
  },
  {
   "cell_type": "code",
   "execution_count": 21,
   "id": "d7dba9e2",
   "metadata": {
    "execution": {
     "iopub.execute_input": "2024-03-12T07:42:03.185468Z",
     "iopub.status.busy": "2024-03-12T07:42:03.185062Z",
     "iopub.status.idle": "2024-03-12T07:42:03.203655Z",
     "shell.execute_reply": "2024-03-12T07:42:03.202381Z"
    },
    "papermill": {
     "duration": 0.03454,
     "end_time": "2024-03-12T07:42:03.206077",
     "exception": false,
     "start_time": "2024-03-12T07:42:03.171537",
     "status": "completed"
    },
    "tags": []
   },
   "outputs": [
    {
     "data": {
      "text/html": [
       "<div>\n",
       "<style scoped>\n",
       "    .dataframe tbody tr th:only-of-type {\n",
       "        vertical-align: middle;\n",
       "    }\n",
       "\n",
       "    .dataframe tbody tr th {\n",
       "        vertical-align: top;\n",
       "    }\n",
       "\n",
       "    .dataframe thead th {\n",
       "        text-align: right;\n",
       "    }\n",
       "</style>\n",
       "<table border=\"1\" class=\"dataframe\">\n",
       "  <thead>\n",
       "    <tr style=\"text-align: right;\">\n",
       "      <th></th>\n",
       "      <th>Air temperature</th>\n",
       "      <th>Process temperature</th>\n",
       "      <th>Rotational speed</th>\n",
       "      <th>Torque</th>\n",
       "      <th>Tool wear</th>\n",
       "      <th>Machine failure</th>\n",
       "      <th>TWF</th>\n",
       "      <th>HDF</th>\n",
       "      <th>PWF</th>\n",
       "      <th>OSF</th>\n",
       "      <th>RNF</th>\n",
       "      <th>H</th>\n",
       "      <th>L</th>\n",
       "      <th>M</th>\n",
       "    </tr>\n",
       "  </thead>\n",
       "  <tbody>\n",
       "    <tr>\n",
       "      <th>0</th>\n",
       "      <td>300.6</td>\n",
       "      <td>309.6</td>\n",
       "      <td>1596</td>\n",
       "      <td>36.1</td>\n",
       "      <td>140</td>\n",
       "      <td>0.0</td>\n",
       "      <td>0</td>\n",
       "      <td>0</td>\n",
       "      <td>0</td>\n",
       "      <td>0</td>\n",
       "      <td>0</td>\n",
       "      <td>0</td>\n",
       "      <td>1</td>\n",
       "      <td>0</td>\n",
       "    </tr>\n",
       "    <tr>\n",
       "      <th>1</th>\n",
       "      <td>302.6</td>\n",
       "      <td>312.1</td>\n",
       "      <td>1759</td>\n",
       "      <td>29.1</td>\n",
       "      <td>200</td>\n",
       "      <td>0.0</td>\n",
       "      <td>0</td>\n",
       "      <td>0</td>\n",
       "      <td>0</td>\n",
       "      <td>0</td>\n",
       "      <td>0</td>\n",
       "      <td>0</td>\n",
       "      <td>0</td>\n",
       "      <td>1</td>\n",
       "    </tr>\n",
       "    <tr>\n",
       "      <th>2</th>\n",
       "      <td>299.3</td>\n",
       "      <td>308.5</td>\n",
       "      <td>1805</td>\n",
       "      <td>26.5</td>\n",
       "      <td>25</td>\n",
       "      <td>0.0</td>\n",
       "      <td>0</td>\n",
       "      <td>0</td>\n",
       "      <td>0</td>\n",
       "      <td>0</td>\n",
       "      <td>0</td>\n",
       "      <td>0</td>\n",
       "      <td>1</td>\n",
       "      <td>0</td>\n",
       "    </tr>\n",
       "    <tr>\n",
       "      <th>3</th>\n",
       "      <td>301.0</td>\n",
       "      <td>310.9</td>\n",
       "      <td>1524</td>\n",
       "      <td>44.3</td>\n",
       "      <td>197</td>\n",
       "      <td>0.0</td>\n",
       "      <td>0</td>\n",
       "      <td>0</td>\n",
       "      <td>0</td>\n",
       "      <td>0</td>\n",
       "      <td>0</td>\n",
       "      <td>0</td>\n",
       "      <td>1</td>\n",
       "      <td>0</td>\n",
       "    </tr>\n",
       "    <tr>\n",
       "      <th>4</th>\n",
       "      <td>298.0</td>\n",
       "      <td>309.0</td>\n",
       "      <td>1641</td>\n",
       "      <td>35.4</td>\n",
       "      <td>34</td>\n",
       "      <td>0.0</td>\n",
       "      <td>0</td>\n",
       "      <td>0</td>\n",
       "      <td>0</td>\n",
       "      <td>0</td>\n",
       "      <td>0</td>\n",
       "      <td>0</td>\n",
       "      <td>0</td>\n",
       "      <td>1</td>\n",
       "    </tr>\n",
       "  </tbody>\n",
       "</table>\n",
       "</div>"
      ],
      "text/plain": [
       "   Air temperature  Process temperature  Rotational speed  Torque  Tool wear  \\\n",
       "0            300.6                309.6              1596    36.1        140   \n",
       "1            302.6                312.1              1759    29.1        200   \n",
       "2            299.3                308.5              1805    26.5         25   \n",
       "3            301.0                310.9              1524    44.3        197   \n",
       "4            298.0                309.0              1641    35.4         34   \n",
       "\n",
       "   Machine failure  TWF  HDF  PWF  OSF  RNF  H  L  M  \n",
       "0              0.0    0    0    0    0    0  0  1  0  \n",
       "1              0.0    0    0    0    0    0  0  0  1  \n",
       "2              0.0    0    0    0    0    0  0  1  0  \n",
       "3              0.0    0    0    0    0    0  0  1  0  \n",
       "4              0.0    0    0    0    0    0  0  0  1  "
      ]
     },
     "execution_count": 21,
     "metadata": {},
     "output_type": "execute_result"
    }
   ],
   "source": [
    "data_train.head()"
   ]
  },
  {
   "cell_type": "code",
   "execution_count": 22,
   "id": "afcedd68",
   "metadata": {
    "execution": {
     "iopub.execute_input": "2024-03-12T07:42:03.233756Z",
     "iopub.status.busy": "2024-03-12T07:42:03.233318Z",
     "iopub.status.idle": "2024-03-12T07:42:03.253277Z",
     "shell.execute_reply": "2024-03-12T07:42:03.252075Z"
    },
    "papermill": {
     "duration": 0.036939,
     "end_time": "2024-03-12T07:42:03.255706",
     "exception": false,
     "start_time": "2024-03-12T07:42:03.218767",
     "status": "completed"
    },
    "tags": []
   },
   "outputs": [
    {
     "data": {
      "text/html": [
       "<div>\n",
       "<style scoped>\n",
       "    .dataframe tbody tr th:only-of-type {\n",
       "        vertical-align: middle;\n",
       "    }\n",
       "\n",
       "    .dataframe tbody tr th {\n",
       "        vertical-align: top;\n",
       "    }\n",
       "\n",
       "    .dataframe thead th {\n",
       "        text-align: right;\n",
       "    }\n",
       "</style>\n",
       "<table border=\"1\" class=\"dataframe\">\n",
       "  <thead>\n",
       "    <tr style=\"text-align: right;\">\n",
       "      <th></th>\n",
       "      <th>Air temperature</th>\n",
       "      <th>Process temperature</th>\n",
       "      <th>Rotational speed</th>\n",
       "      <th>Torque</th>\n",
       "      <th>Tool wear</th>\n",
       "      <th>TWF</th>\n",
       "      <th>HDF</th>\n",
       "      <th>PWF</th>\n",
       "      <th>OSF</th>\n",
       "      <th>RNF</th>\n",
       "      <th>H</th>\n",
       "      <th>L</th>\n",
       "      <th>M</th>\n",
       "    </tr>\n",
       "  </thead>\n",
       "  <tbody>\n",
       "    <tr>\n",
       "      <th>0</th>\n",
       "      <td>302.3</td>\n",
       "      <td>311.5</td>\n",
       "      <td>1499</td>\n",
       "      <td>38.0</td>\n",
       "      <td>60</td>\n",
       "      <td>0</td>\n",
       "      <td>0</td>\n",
       "      <td>0</td>\n",
       "      <td>0</td>\n",
       "      <td>0</td>\n",
       "      <td>0</td>\n",
       "      <td>1</td>\n",
       "      <td>0</td>\n",
       "    </tr>\n",
       "    <tr>\n",
       "      <th>1</th>\n",
       "      <td>301.7</td>\n",
       "      <td>311.0</td>\n",
       "      <td>1713</td>\n",
       "      <td>28.8</td>\n",
       "      <td>17</td>\n",
       "      <td>0</td>\n",
       "      <td>0</td>\n",
       "      <td>0</td>\n",
       "      <td>0</td>\n",
       "      <td>0</td>\n",
       "      <td>0</td>\n",
       "      <td>1</td>\n",
       "      <td>0</td>\n",
       "    </tr>\n",
       "    <tr>\n",
       "      <th>2</th>\n",
       "      <td>301.3</td>\n",
       "      <td>310.4</td>\n",
       "      <td>1525</td>\n",
       "      <td>37.7</td>\n",
       "      <td>96</td>\n",
       "      <td>0</td>\n",
       "      <td>0</td>\n",
       "      <td>0</td>\n",
       "      <td>0</td>\n",
       "      <td>0</td>\n",
       "      <td>0</td>\n",
       "      <td>1</td>\n",
       "      <td>0</td>\n",
       "    </tr>\n",
       "    <tr>\n",
       "      <th>3</th>\n",
       "      <td>300.1</td>\n",
       "      <td>309.6</td>\n",
       "      <td>1479</td>\n",
       "      <td>47.6</td>\n",
       "      <td>5</td>\n",
       "      <td>0</td>\n",
       "      <td>0</td>\n",
       "      <td>0</td>\n",
       "      <td>0</td>\n",
       "      <td>0</td>\n",
       "      <td>0</td>\n",
       "      <td>0</td>\n",
       "      <td>1</td>\n",
       "    </tr>\n",
       "    <tr>\n",
       "      <th>4</th>\n",
       "      <td>303.4</td>\n",
       "      <td>312.3</td>\n",
       "      <td>1515</td>\n",
       "      <td>41.3</td>\n",
       "      <td>114</td>\n",
       "      <td>0</td>\n",
       "      <td>0</td>\n",
       "      <td>0</td>\n",
       "      <td>0</td>\n",
       "      <td>0</td>\n",
       "      <td>0</td>\n",
       "      <td>0</td>\n",
       "      <td>1</td>\n",
       "    </tr>\n",
       "  </tbody>\n",
       "</table>\n",
       "</div>"
      ],
      "text/plain": [
       "   Air temperature  Process temperature  Rotational speed  Torque  Tool wear  \\\n",
       "0            302.3                311.5              1499    38.0         60   \n",
       "1            301.7                311.0              1713    28.8         17   \n",
       "2            301.3                310.4              1525    37.7         96   \n",
       "3            300.1                309.6              1479    47.6          5   \n",
       "4            303.4                312.3              1515    41.3        114   \n",
       "\n",
       "   TWF  HDF  PWF  OSF  RNF  H  L  M  \n",
       "0    0    0    0    0    0  0  1  0  \n",
       "1    0    0    0    0    0  0  1  0  \n",
       "2    0    0    0    0    0  0  1  0  \n",
       "3    0    0    0    0    0  0  0  1  \n",
       "4    0    0    0    0    0  0  0  1  "
      ]
     },
     "execution_count": 22,
     "metadata": {},
     "output_type": "execute_result"
    }
   ],
   "source": [
    "data_test.head()"
   ]
  },
  {
   "cell_type": "code",
   "execution_count": 23,
   "id": "798104fc",
   "metadata": {
    "execution": {
     "iopub.execute_input": "2024-03-12T07:42:03.283889Z",
     "iopub.status.busy": "2024-03-12T07:42:03.283504Z",
     "iopub.status.idle": "2024-03-12T07:42:03.327239Z",
     "shell.execute_reply": "2024-03-12T07:42:03.326279Z"
    },
    "papermill": {
     "duration": 0.060828,
     "end_time": "2024-03-12T07:42:03.329789",
     "exception": false,
     "start_time": "2024-03-12T07:42:03.268961",
     "status": "completed"
    },
    "tags": []
   },
   "outputs": [],
   "source": [
    "from sklearn.model_selection import train_test_split\n",
    "\n",
    "X = data_train.drop(columns=\"Machine failure\")\n",
    "y = data_train[\"Machine failure\"]\n",
    "\n",
    "\n",
    "X_train,X_val,y_train,y_val = train_test_split(X,y,test_size=0.25,random_state=0)"
   ]
  },
  {
   "cell_type": "code",
   "execution_count": 24,
   "id": "e1d2ead1",
   "metadata": {
    "execution": {
     "iopub.execute_input": "2024-03-12T07:42:03.364578Z",
     "iopub.status.busy": "2024-03-12T07:42:03.362784Z",
     "iopub.status.idle": "2024-03-12T07:42:03.371802Z",
     "shell.execute_reply": "2024-03-12T07:42:03.370939Z"
    },
    "papermill": {
     "duration": 0.031317,
     "end_time": "2024-03-12T07:42:03.375247",
     "exception": false,
     "start_time": "2024-03-12T07:42:03.343930",
     "status": "completed"
    },
    "tags": []
   },
   "outputs": [
    {
     "data": {
      "text/plain": [
       "((102321, 13), (34108, 13))"
      ]
     },
     "execution_count": 24,
     "metadata": {},
     "output_type": "execute_result"
    }
   ],
   "source": [
    "X_train.shape, X_val.shape"
   ]
  },
  {
   "cell_type": "code",
   "execution_count": 25,
   "id": "a27076f3",
   "metadata": {
    "execution": {
     "iopub.execute_input": "2024-03-12T07:42:03.409766Z",
     "iopub.status.busy": "2024-03-12T07:42:03.409144Z",
     "iopub.status.idle": "2024-03-12T07:42:03.442561Z",
     "shell.execute_reply": "2024-03-12T07:42:03.441385Z"
    },
    "papermill": {
     "duration": 0.053359,
     "end_time": "2024-03-12T07:42:03.445265",
     "exception": false,
     "start_time": "2024-03-12T07:42:03.391906",
     "status": "completed"
    },
    "tags": []
   },
   "outputs": [],
   "source": [
    "from sklearn.preprocessing import MinMaxScaler\n",
    "scaler = MinMaxScaler()\n",
    "X_train = scaler.fit_transform(X_train)\n",
    "X_val= scaler.transform(X_val)"
   ]
  },
  {
   "cell_type": "code",
   "execution_count": 26,
   "id": "f7ed9af3",
   "metadata": {
    "execution": {
     "iopub.execute_input": "2024-03-12T07:42:03.473089Z",
     "iopub.status.busy": "2024-03-12T07:42:03.472673Z",
     "iopub.status.idle": "2024-03-12T07:58:48.569711Z",
     "shell.execute_reply": "2024-03-12T07:58:48.568395Z"
    },
    "papermill": {
     "duration": 1005.128555,
     "end_time": "2024-03-12T07:58:48.586841",
     "exception": false,
     "start_time": "2024-03-12T07:42:03.458286",
     "status": "completed"
    },
    "tags": []
   },
   "outputs": [
    {
     "name": "stdout",
     "output_type": "stream",
     "text": [
      "XGBoost Cross-Validation ROC-AUC: 0.9527\n",
      "Random Forest Cross-Validation ROC-AUC: 0.9404\n",
      "KNN Cross-Validation ROC-AUC: 0.8889\n"
     ]
    },
    {
     "name": "stderr",
     "output_type": "stream",
     "text": [
      "/opt/conda/lib/python3.10/site-packages/sklearn/linear_model/_logistic.py:458: ConvergenceWarning: lbfgs failed to converge (status=1):\n",
      "STOP: TOTAL NO. of ITERATIONS REACHED LIMIT.\n",
      "\n",
      "Increase the number of iterations (max_iter) or scale the data as shown in:\n",
      "    https://scikit-learn.org/stable/modules/preprocessing.html\n",
      "Please also refer to the documentation for alternative solver options:\n",
      "    https://scikit-learn.org/stable/modules/linear_model.html#logistic-regression\n",
      "  n_iter_i = _check_optimize_result(\n",
      "/opt/conda/lib/python3.10/site-packages/sklearn/linear_model/_logistic.py:458: ConvergenceWarning: lbfgs failed to converge (status=1):\n",
      "STOP: TOTAL NO. of ITERATIONS REACHED LIMIT.\n",
      "\n",
      "Increase the number of iterations (max_iter) or scale the data as shown in:\n",
      "    https://scikit-learn.org/stable/modules/preprocessing.html\n",
      "Please also refer to the documentation for alternative solver options:\n",
      "    https://scikit-learn.org/stable/modules/linear_model.html#logistic-regression\n",
      "  n_iter_i = _check_optimize_result(\n"
     ]
    },
    {
     "name": "stdout",
     "output_type": "stream",
     "text": [
      "Logistic Regression Cross-Validation ROC-AUC: 0.9328\n",
      "Decision Tree Cross-Validation ROC-AUC: 0.8815\n",
      "SVM Cross-Validation ROC-AUC: 0.9151\n"
     ]
    }
   ],
   "source": [
    "xgb_model = xgb.XGBClassifier()\n",
    "xgb_scores = cross_val_score(xgb_model, X_train, y_train, cv=5, scoring='roc_auc_ovo')  # OvO for multi-class\n",
    "print(f'XGBoost Cross-Validation ROC-AUC: {xgb_scores.mean():.4f}')\n",
    "\n",
    "# Random Forest model with ROC-AUC\n",
    "rf_model = RandomForestClassifier()\n",
    "rf_scores = cross_val_score(rf_model, X_train, y_train, cv=5, scoring='roc_auc_ovo')\n",
    "print(f'Random Forest Cross-Validation ROC-AUC: {rf_scores.mean():.4f}')\n",
    "\n",
    "# k-Nearest Neighbors (KNN) model with ROC-AUC\n",
    "knn_model = KNeighborsClassifier()\n",
    "knn_scores = cross_val_score(knn_model, X_train, y_train, cv=5, scoring='roc_auc_ovo')\n",
    "print(f'KNN Cross-Validation ROC-AUC: {knn_scores.mean():.4f}')\n",
    "\n",
    "# Logistic Regression model with ROC-AUC\n",
    "logreg_model = LogisticRegression(class_weight = 'balanced')\n",
    "logreg_scores = cross_val_score(logreg_model, X_train, y_train, cv=5, scoring='roc_auc_ovo')\n",
    "print(f'Logistic Regression Cross-Validation ROC-AUC: {logreg_scores.mean():.4f}')\n",
    "\n",
    "dt_model = DecisionTreeClassifier()\n",
    "dt_scores = cross_val_score(dt_model, X_train, y_train, cv=5, scoring='roc_auc_ovo')\n",
    "print(f'Decision Tree Cross-Validation ROC-AUC: {dt_scores.mean():.4f}')\n",
    "\n",
    "# Support Vector Machine (SVM) model with ROC-AUC\n",
    "svm_model = SVC(probability=True)\n",
    "svm_scores = cross_val_score(svm_model, X_train, y_train, cv=5, scoring='roc_auc_ovo')\n",
    "print(f'SVM Cross-Validation ROC-AUC: {svm_scores.mean():.4f}')"
   ]
  },
  {
   "cell_type": "code",
   "execution_count": 27,
   "id": "631b8d4e",
   "metadata": {
    "execution": {
     "iopub.execute_input": "2024-03-12T07:58:48.617534Z",
     "iopub.status.busy": "2024-03-12T07:58:48.617059Z",
     "iopub.status.idle": "2024-03-12T07:58:49.290940Z",
     "shell.execute_reply": "2024-03-12T07:58:49.289869Z"
    },
    "papermill": {
     "duration": 0.692956,
     "end_time": "2024-03-12T07:58:49.294482",
     "exception": false,
     "start_time": "2024-03-12T07:58:48.601526",
     "status": "completed"
    },
    "tags": []
   },
   "outputs": [
    {
     "data": {
      "text/plain": [
       "array([0, 0, 0, ..., 0, 0, 0])"
      ]
     },
     "execution_count": 27,
     "metadata": {},
     "output_type": "execute_result"
    }
   ],
   "source": [
    "xgb_model = xgb.XGBClassifier()\n",
    "xgb_model.fit(X_train, y_train)\n",
    "\n",
    "y_pred = xgb_model.predict(X_val)\n",
    "y_pred"
   ]
  },
  {
   "cell_type": "code",
   "execution_count": 28,
   "id": "554f9a68",
   "metadata": {
    "execution": {
     "iopub.execute_input": "2024-03-12T07:58:49.329976Z",
     "iopub.status.busy": "2024-03-12T07:58:49.329569Z",
     "iopub.status.idle": "2024-03-12T07:58:49.373578Z",
     "shell.execute_reply": "2024-03-12T07:58:49.372427Z"
    },
    "papermill": {
     "duration": 0.063187,
     "end_time": "2024-03-12T07:58:49.376573",
     "exception": false,
     "start_time": "2024-03-12T07:58:49.313386",
     "status": "completed"
    },
    "tags": []
   },
   "outputs": [
    {
     "data": {
      "text/plain": [
       "array([0.00189464, 0.00475762, 0.00017893, ..., 0.00080381, 0.00013707,\n",
       "       0.00014059], dtype=float32)"
      ]
     },
     "execution_count": 28,
     "metadata": {},
     "output_type": "execute_result"
    }
   ],
   "source": [
    "y_pred_proba = xgb_model.predict_proba(X_val)[:, 1]\n",
    "y_pred_proba"
   ]
  }
 ],
 "metadata": {
  "kaggle": {
   "accelerator": "none",
   "dataSources": [
    {
     "databundleVersionId": 5988351,
     "sourceId": 53376,
     "sourceType": "competition"
    }
   ],
   "dockerImageVersionId": 30664,
   "isGpuEnabled": false,
   "isInternetEnabled": true,
   "language": "python",
   "sourceType": "notebook"
  },
  "kernelspec": {
   "display_name": "Python 3",
   "language": "python",
   "name": "python3"
  },
  "language_info": {
   "codemirror_mode": {
    "name": "ipython",
    "version": 3
   },
   "file_extension": ".py",
   "mimetype": "text/x-python",
   "name": "python",
   "nbconvert_exporter": "python",
   "pygments_lexer": "ipython3",
   "version": "3.10.13"
  },
  "papermill": {
   "default_parameters": {},
   "duration": 1014.964878,
   "end_time": "2024-03-12T07:58:50.117541",
   "environment_variables": {},
   "exception": null,
   "input_path": "__notebook__.ipynb",
   "output_path": "__notebook__.ipynb",
   "parameters": {},
   "start_time": "2024-03-12T07:41:55.152663",
   "version": "2.5.0"
  }
 },
 "nbformat": 4,
 "nbformat_minor": 5
}
